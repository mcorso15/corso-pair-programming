{
 "cells": [
  {
   "cell_type": "markdown",
   "id": "6cd8283d-d87e-44b1-8a1d-eb4e8f0a48a5",
   "metadata": {},
   "source": [
    "Task 2 -- Takes the input data and returns values scaled to lie in the range of 0.0 to 1.0"
   ]
  },
  {
   "cell_type": "code",
   "execution_count": 10,
   "id": "2d379981-4a84-4184-afab-531424bf77a8",
   "metadata": {},
   "outputs": [],
   "source": [
    "#Input data: Using x, y, z as placement inputs\n",
    "def scaling(data):\n",
    "\n",
    "# Could put this code in a function (I had to do this \n",
    "# to finish part 3 \n",
    "#Compute maximum as that will determine the the scale at which we will divide the data points\n",
    "    maximum = max(data)\n",
    "#make an empty list to be compiled with the new scaled data\n",
    "    scaled_data = []\n",
    "\n",
    "# Simple, elegant solution with this loop.\n",
    "#create a loop to go through all data points and scale them based on that maximum (which will be 1)\n",
    "    for i in range(len(data)):\n",
    "        new_data = data[i] / maximum\n",
    "        scaled_data.append(new_data) #append scaled data to the scaled data list\n",
    "    \n",
    "    print(scaled_data) #print scaled data"
   ]
  },
  {
   "cell_type": "markdown",
   "id": "6dbe0004-ccdc-4d90-ac13-c41dd59771e2",
   "metadata": {},
   "source": [
    "### notes:\n",
    "-too many comments make code harder to read -MJ"
   ]
  },
  {
   "cell_type": "code",
   "execution_count": 11,
   "id": "ef714f83-7d68-40f3-ab37-9d59da278ba3",
   "metadata": {},
   "outputs": [
    {
     "name": "stdout",
     "output_type": "stream",
     "text": [
      "[0.4, 0.6, 0.8, 1.0]\n",
      "[0.3333333333333333, 0.6666666666666666, 1.0]\n"
     ]
    }
   ],
   "source": [
    "def scaling_test(test1, test2):\n",
    "    scaling(test1)\n",
    "    scaling(test2)\n",
    "    \n",
    "scaling_test([2,3,4,5],[10,20,30])"
   ]
  },
  {
   "cell_type": "code",
   "execution_count": 12,
   "id": "cc7d0b4e-6587-46ee-a87f-cc6a06df734b",
   "metadata": {},
   "outputs": [
    {
     "name": "stdout",
     "output_type": "stream",
     "text": [
      "[0.25, 0.5, 0.75, 1.0]\n",
      "[1.0, 0.8888888888888888, 0.7777777777777778, 0.6666666666666666]\n",
      "None\n"
     ]
    }
   ],
   "source": [
    "# Mia test\n",
    "def test(t1, t2):\n",
    "    scaling(t1)\n",
    "    scaling(t2)\n",
    "    \n",
    "t1 = ([1,2,3,4])\n",
    "t2 = ([9,8,7,6])\n",
    "\n",
    "print(test(t1, t2))\n"
   ]
  },
  {
   "cell_type": "code",
   "execution_count": null,
   "id": "c2c2c12d-4d26-41c5-ba48-1089719e75bf",
   "metadata": {},
   "outputs": [],
   "source": []
  }
 ],
 "metadata": {
  "kernelspec": {
   "display_name": "Python 3 (ipykernel)",
   "language": "python",
   "name": "python3"
  },
  "language_info": {
   "codemirror_mode": {
    "name": "ipython",
    "version": 3
   },
   "file_extension": ".py",
   "mimetype": "text/x-python",
   "name": "python",
   "nbconvert_exporter": "python",
   "pygments_lexer": "ipython3",
   "version": "3.9.13"
  }
 },
 "nbformat": 4,
 "nbformat_minor": 5
}
