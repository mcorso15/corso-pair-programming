{
 "cells": [
  {
   "cell_type": "markdown",
   "id": "6cd8283d-d87e-44b1-8a1d-eb4e8f0a48a5",
   "metadata": {},
   "source": [
    "Task 2 -- Takes the input data and returns values scaled to lie in the range of 0.0 to 1.0"
   ]
  },
  {
   "cell_type": "code",
   "execution_count": 1,
   "id": "2d379981-4a84-4184-afab-531424bf77a8",
   "metadata": {},
   "outputs": [
    {
     "name": "stdout",
     "output_type": "stream",
     "text": [
      "[0.3333333333333333, 0.6666666666666666, 1.0]\n"
     ]
    }
   ],
   "source": [
    "#Input data: Using x, y, z as placement inputs\n",
    "data = [x, y, z]\n",
    "#Compute maximum as that will determine the the scale at which we will divide the data points\n",
    "maximum = max(data)\n",
    "#make an empty list to be compiled with the new scaled data\n",
    "scaled_data = []\n",
    "\n",
    "#create a loop to go through all data points and scale them based on that maximum (which will be 1)\n",
    "for i in range(len(data)):\n",
    "    new_data = data[i] / maximum\n",
    "    scaled_data.append(new_data) #append scaled data to the scaled data list\n",
    "    \n",
    "print(scaled_data) #print scaled data"
   ]
  }
 ],
 "metadata": {
  "kernelspec": {
   "display_name": "Python 3 (ipykernel)",
   "language": "python",
   "name": "python3"
  },
  "language_info": {
   "codemirror_mode": {
    "name": "ipython",
    "version": 3
   },
   "file_extension": ".py",
   "mimetype": "text/x-python",
   "name": "python",
   "nbconvert_exporter": "python",
   "pygments_lexer": "ipython3",
   "version": "3.9.13"
  }
 },
 "nbformat": 4,
 "nbformat_minor": 5
}
